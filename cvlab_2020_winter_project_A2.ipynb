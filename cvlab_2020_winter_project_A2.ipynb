{
  "nbformat": 4,
  "nbformat_minor": 0,
  "metadata": {
    "colab": {
      "name": "cvlab_2020_winter_project_A2.ipynb",
      "provenance": [],
      "collapsed_sections": [],
      "toc_visible": true,
      "include_colab_link": true
    },
    "kernelspec": {
      "name": "python3",
      "display_name": "Python 3"
    },
    "accelerator": "GPU"
  },
  "cells": [
    {
      "cell_type": "markdown",
      "metadata": {
        "id": "view-in-github",
        "colab_type": "text"
      },
      "source": [
        "<a href=\"https://colab.research.google.com/github/clairechiu1997/cvlab_2020_winter/blob/master/cvlab_2020_winter_project_A2.ipynb\" target=\"_parent\"><img src=\"https://colab.research.google.com/assets/colab-badge.svg\" alt=\"Open In Colab\"/></a>"
      ]
    },
    {
      "cell_type": "code",
      "metadata": {
        "id": "_SDWjdz7CbB3",
        "colab_type": "code",
        "outputId": "a7a8b842-d931-4cbb-b402-5b4415e07404",
        "colab": {
          "base_uri": "https://localhost:8080/",
          "height": 353
        }
      },
      "source": [
        "!wget -nc 140.114.85.52:8000/pA1.csv\n",
        "!wget -nc 140.114.85.52:8000/pA2.csv"
      ],
      "execution_count": 1,
      "outputs": [
        {
          "output_type": "stream",
          "text": [
            "--2020-02-01 05:13:30--  http://140.114.85.52:8000/pA1.csv\n",
            "Connecting to 140.114.85.52:8000... connected.\n",
            "HTTP request sent, awaiting response... 200 OK\n",
            "Length: 604 [text/csv]\n",
            "Saving to: ‘pA1.csv’\n",
            "\n",
            "\rpA1.csv               0%[                    ]       0  --.-KB/s               \rpA1.csv             100%[===================>]     604  --.-KB/s    in 0s      \n",
            "\n",
            "2020-02-01 05:13:30 (23.4 MB/s) - ‘pA1.csv’ saved [604/604]\n",
            "\n",
            "--2020-02-01 05:13:33--  http://140.114.85.52:8000/pA2.csv\n",
            "Connecting to 140.114.85.52:8000... connected.\n",
            "HTTP request sent, awaiting response... 200 OK\n",
            "Length: 631 [text/csv]\n",
            "Saving to: ‘pA2.csv’\n",
            "\n",
            "pA2.csv             100%[===================>]     631  --.-KB/s    in 0.001s  \n",
            "\n",
            "2020-02-01 05:13:33 (1.17 MB/s) - ‘pA2.csv’ saved [631/631]\n",
            "\n"
          ],
          "name": "stdout"
        }
      ]
    },
    {
      "cell_type": "code",
      "metadata": {
        "id": "v69S7sIBCpEa",
        "colab_type": "code",
        "cellView": "code",
        "colab": {}
      },
      "source": [
        "#@title import data\n",
        "import numpy as np\n",
        "import pandas as pd\n",
        "import matplotlib.pyplot as plt\n",
        "from matplotlib import cm\n",
        "\n",
        "import torch\n",
        "from torch import nn\n",
        "from torch.nn import functional as F\n",
        "from torch.utils.data import Dataset, DataLoader\n",
        "\n",
        "import matplotlib.pyplot as plt\n",
        "from mpl_toolkits.mplot3d import Axes3D\n",
        "from sklearn.preprocessing import StandardScaler"
      ],
      "execution_count": 0,
      "outputs": []
    },
    {
      "cell_type": "code",
      "metadata": {
        "id": "PsOJgKyrCrga",
        "colab_type": "code",
        "colab": {}
      },
      "source": [
        "seed = 999\n",
        "#let every random solution be the same\n",
        "torch.manual_seed(seed)\n",
        "torch.backends.cudnn.deterministic = True"
      ],
      "execution_count": 0,
      "outputs": []
    },
    {
      "cell_type": "code",
      "metadata": {
        "id": "qwVCZ2ZCCwRb",
        "colab_type": "code",
        "outputId": "0b9b9b84-a639-4fdb-c5aa-50e983840f1e",
        "colab": {
          "base_uri": "https://localhost:8080/",
          "height": 118
        }
      },
      "source": [
        "class Data:\n",
        "    def __init__(self, csv_path):\n",
        "        super().__init__()\n",
        "        self.anns = pd.read_csv(csv_path).to_dict('records')\n",
        "\n",
        "    def __len__(self):\n",
        "        return len(self.anns)\n",
        "\n",
        "    def __getitem__(self, idx):\n",
        "        ann = self.anns[idx]\n",
        "        x = torch.tensor(ann['x'])\n",
        "        y = torch.tensor(ann['y'])\n",
        "        return x, y\n",
        "\n",
        "\n",
        "class Net(nn.Module):\n",
        "    def __init__(self):\n",
        "        super().__init__()\n",
        "        self.w0 = nn.Parameter(torch.rand(1) * 0.001)\n",
        "        self.w1 = nn.Parameter(torch.rand(1) * 0.001)\n",
        "        self.w2 = nn.Parameter(torch.rand(1) * 0.001)\n",
        "    \n",
        "    def forward(self, xs):\n",
        "        ps = self.w0 * xs * xs + self.w1 * xs + self.w2\n",
        "        return ps\n",
        "\n",
        "\n",
        "data = Data('./pA2.csv')\n",
        "loader = DataLoader(data, batch_size=5, shuffle=True)\n",
        "\n",
        "device = 'cpu'\n",
        "model = Net().to(device)\n",
        "criterion = nn.L1Loss()\n",
        "optimizer = torch.optim.Adam(model.parameters(), lr=1e-1)\n",
        "#1e-1 = 1*10^-1\n",
        "\n",
        "loss_array = []\n",
        "\n",
        "for epoch in range(60):\n",
        "    for xs, ys in iter(loader):\n",
        "        xs = xs.to(device)\n",
        "        ys = ys.to(device)\n",
        "\n",
        "        optimizer.zero_grad()\n",
        "        #set gradient to 0\n",
        "        ps = model(xs)\n",
        "        loss = criterion(ps, ys)\n",
        "        #ps: predection; ys: ground truth\n",
        "        loss.backward()\n",
        "        optimizer.step()\n",
        "        loss_array.append(loss.detach().item())\n",
        "\n",
        "print(model.w0)\n",
        "print(model.w1)\n",
        "print(model.w2)"
      ],
      "execution_count": 24,
      "outputs": [
        {
          "output_type": "stream",
          "text": [
            "Parameter containing:\n",
            "tensor([-1.9951], requires_grad=True)\n",
            "Parameter containing:\n",
            "tensor([1.0261], requires_grad=True)\n",
            "Parameter containing:\n",
            "tensor([3.9836], requires_grad=True)\n"
          ],
          "name": "stdout"
        }
      ]
    },
    {
      "cell_type": "code",
      "metadata": {
        "id": "qmWqU-NSMIDa",
        "colab_type": "code",
        "colab": {
          "base_uri": "https://localhost:8080/",
          "height": 279
        },
        "outputId": "49cd3314-0050-48a3-fda1-7eb5a36f4a3e"
      },
      "source": [
        "plt.plot(loss_array)\n",
        "plt.ylabel(\"loss\")\n",
        "plt.xlabel(\"iteration\")\n",
        "plt.show()"
      ],
      "execution_count": 25,
      "outputs": [
        {
          "output_type": "display_data",
          "data": {
            "image/png": "[encoded data removed]",
            "text/plain": [
              "<Figure size 432x288 with 1 Axes>"
            ]
          },
          "metadata": {
            "tags": []
          }
        }
      ]
    },
    {
      "cell_type": "code",
      "metadata": {
        "id": "kXqdjGiJNQ3S",
        "colab_type": "code",
        "colab": {
          "base_uri": "https://localhost:8080/",
          "height": 282
        },
        "outputId": "43aa8898-03d9-4eb1-bf1a-39a5c6cd12cc"
      },
      "source": [
        "x = np.linspace(-0.3, 0.4, 100)\n",
        "y = model.w0.item()*x*x + model.w1.item()*x + model.w2.item()\n",
        "\n",
        "plt.plot(x, y)"
      ],
      "execution_count": 26,
      "outputs": [
        {
          "output_type": "execute_result",
          "data": {
            "text/plain": [
              "[<matplotlib.lines.Line2D at 0x7f384cf1ba20>]"
            ]
          },
          "metadata": {
            "tags": []
          },
          "execution_count": 26
        },
        {
          "output_type": "display_data",
          "data": {
            "image/png": "[encoded data removed]",
            "text/plain": [
              "<Figure size 432x288 with 1 Axes>"
            ]
          },
          "metadata": {
            "tags": []
          }
        }
      ]
    },
    {
      "cell_type": "markdown",
      "metadata": {
        "id": "7b0tSB0EKbmK",
        "colab_type": "text"
      },
      "source": [
        "# Report\n"
      ]
    }
  ]
}